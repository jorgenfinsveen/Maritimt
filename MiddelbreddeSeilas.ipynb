{
 "cells": [
  {
   "cell_type": "markdown",
   "metadata": {},
   "source": [
    "# Wheel Overpoint Calculator"
   ]
  },
  {
   "cell_type": "markdown",
   "metadata": {},
   "source": [
    "## Fill out the information below:"
   ]
  },
  {
   "cell_type": "code",
   "execution_count": null,
   "metadata": {},
   "outputs": [],
   "source": [
    "# Ship length in meters.\n",
    "shipLength = 205.8\n",
    "\n",
    "# Ship turining ratius in meters.\n",
    "shipRadius = 420\n",
    "\n",
    "# Ship cruising speed in knots.\n",
    "shipSpeed = 18\n",
    "\n",
    "# Coordinates of starting point on the form [x, y]\n",
    "startCoordinates = [12, 2]\n",
    "\n",
    "# Coordinates of turning point on the form [x, y]\n",
    "turnCoordinates = [16, 4]\n",
    "\n",
    "# Coordinates of target point on the form [x, y]\n",
    "targetCoordinates = [20, 12]"
   ]
  },
  {
   "cell_type": "markdown",
   "metadata": {},
   "source": [
    "## Run the code above, then the code below to calculate:"
   ]
  },
  {
   "cell_type": "code",
   "execution_count": 90,
   "metadata": {},
   "outputs": [
    {
     "name": "stdout",
     "output_type": "stream",
     "text": [
      "Breddegrad: N30° N0'\n",
      "Lengdegrad: Ø20° Ø0'\n",
      "Middelbredde: -5.0\n",
      "Avvikning: 1195.43\n",
      "Kvadrantkurs: 33.59°\n"
     ]
    },
    {
     "data": {
      "image/png": "[encoded data removed]",
      "text/plain": [
       "<Figure size 432x288 with 1 Axes>"
      ]
     },
     "metadata": {
      "needs_background": "light"
     },
     "output_type": "display_data"
    }
   ],
   "source": [
    "import math\n",
    "import numpy as np\n",
    "import statistics as st\n",
    "import matplotlib.pyplot as plt         \n",
    "degree_sign = u'\\N{DEGREE SIGN}'\n",
    "\n",
    "\n",
    "# Coordinates for start point\n",
    "Ydeg1 = -20\n",
    "Ymin1 = 0\n",
    "Xdeg1 = -10\n",
    "Xmin1 = 0\n",
    "\n",
    "# Coordinates for target point\n",
    "Ydeg2 = 10\n",
    "Ymin2 = 0\n",
    "Xdeg2 = 10\n",
    "Xmin2 = 0\n",
    "\n",
    "\n",
    "# Function for calculating coordinate difference\n",
    "def Ycalculate(Ydeg1, Ydeg2, ymin1, ymin2, upwards): \n",
    "\n",
    "    # Middelbredde\n",
    "    dd1 = Ydeg1 + ymin1/60\n",
    "    dd2 = Ydeg2 + ymin2/60\n",
    "\n",
    "    if (dd1 >= 0 and dd2 >= 0):\n",
    "        c = -1\n",
    "    elif (dd1 < 0 and dd2 < 0):\n",
    "        c = -1\n",
    "    else:\n",
    "        c = 1\n",
    "\n",
    "\n",
    "    middelbredde = (dd2 + c*dd1)/2\n",
    "\n",
    "\n",
    "    totDeg = (Ydeg2 - Ydeg1)\n",
    "    totMin = ymin2-ymin1\n",
    "\n",
    "    while (totMin >= 60):\n",
    "        totDeg += 1\n",
    "        totMin -= 60\n",
    "\n",
    "    while (totMin <= -60):\n",
    "        totDeg -= 1\n",
    "        totMin += 60\n",
    "\n",
    "\n",
    "    if (upwards == False):\n",
    "        if (totDeg >= 180 or totDeg <= -180):\n",
    "\n",
    "            if (totDeg >= 0):\n",
    "                c = -1\n",
    "            else:\n",
    "                c = 1\n",
    "\n",
    "            totDeg = totDeg + 360*(c) \n",
    "\n",
    "    return totDeg, totMin, middelbredde\n",
    "\n",
    "\n",
    "yd,ym,ymb = Ycalculate(Ydeg1, Ydeg2, Ymin1, Ymin2, True)\n",
    "xd,xm,xmb = Ycalculate(Xdeg1, Xdeg2, Xmin1, Xmin2, False)\n",
    "\n",
    "\n",
    "\n",
    "if (yd >= 0):\n",
    "    bfd = 'N'\n",
    "else:\n",
    "    bfd = 'S'\n",
    "\n",
    "if (ym >= 0):\n",
    "    bfm = 'N'\n",
    "else:\n",
    "    bfm = 'S'\n",
    "\n",
    "\n",
    "if (xd >= 0):\n",
    "    lfd = 'Ø'\n",
    "else:\n",
    "    lfd = 'V'\n",
    "\n",
    "if (xm >= 0):\n",
    "    lfm = 'Ø'\n",
    "else:\n",
    "    lfm = 'V'\n",
    "\n",
    "\n",
    "s1 = str(bfd + str(yd) + str(degree_sign) + \" \") + str(bfm + str(ym) + '\\'')\n",
    "s2 = str(lfd + str(xd) + str(degree_sign) + \" \") + str(lfm + str(xm) + '\\'')\n",
    "\n",
    "print(\"Breddegrad:\", s1)\n",
    "print(\"Lengdegrad:\", s2)\n",
    "print(\"Middelbredde:\", ymb)\n",
    "\n",
    "x1 = Xdeg1 + Xmin1/60\n",
    "x2 = Xdeg2 + Xmin2/60\n",
    "ax = (x1+x2)/2\n",
    "\n",
    "y1 = Ydeg1 + Ymin1/60\n",
    "y2 = Ydeg2 + Ymin2/60\n",
    "ay = (y1+y2)/2\n",
    "\n",
    "\n",
    "\n",
    "lengdeMin = xd*60 + xm \n",
    "katet = lengdeMin * np.cos(ymb * math.pi/180)\n",
    "print(\"Avvikning:\", round(katet,2))\n",
    "kk = np.arctan(katet / ((yd*60 + ym))) * 180/math.pi\n",
    "print(\"Kvadrantkurs:\", str(round(kk,2)) + degree_sign)\n",
    "\n",
    "plt.title(\"SJØKART\")\n",
    "plt.plot(x1, y1, 'o')\n",
    "plt.plot(x2, y2, 'o')\n",
    "plt.plot([x1,x2], [y1,y2], ':')\n",
    "plt.plot([x1,x2], [y2,y2], ':')\n",
    "plt.plot([x1,x1], [y1,y2], ':')\n",
    "plt.plot(x1, y2, 'x')\n",
    "plt.plot(ax, ymb, 'o')\n",
    "plt.xlabel('V <---> Ø')\n",
    "plt.ylabel('S <---> N')\n",
    "plt.legend([\"AK\", \"PK\", \"Middelbredde\", \"Katet\", \"Seilas\"])\n",
    "plt.xlim(2*min([x1,x2]), 2*max([x1,x2]))\n",
    "plt.ylim(2*min([y1,y2]), 2*max([y1,y2]))\n",
    "plt.grid()\n",
    "plt.show()\n"
   ]
  }
 ],
 "metadata": {
  "kernelspec": {
   "display_name": "Python 3.10.4 64-bit",
   "language": "python",
   "name": "python3"
  },
  "language_info": {
   "codemirror_mode": {
    "name": "ipython",
    "version": 3
   },
   "file_extension": ".py",
   "mimetype": "text/x-python",
   "name": "python",
   "nbconvert_exporter": "python",
   "pygments_lexer": "ipython3",
   "version": "3.10.4"
  },
  "orig_nbformat": 4,
  "vscode": {
   "interpreter": {
    "hash": "aee8b7b246df8f9039afb4144a1f6fd8d2ca17a180786b69acc140d282b71a49"
   }
  }
 },
 "nbformat": 4,
 "nbformat_minor": 2
}
